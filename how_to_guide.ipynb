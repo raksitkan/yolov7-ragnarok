{
 "cells": [
  {
   "cell_type": "markdown",
   "id": "df784623",
   "metadata": {},
   "source": [
    "# คู่มือการตั้งค่าและใช้งาน YOLOv7 สำหรับ Ragnarok Object Detection"
   ]
  },
  {
   "cell_type": "markdown",
   "id": "bbaf16a5",
   "metadata": {},
   "source": [
    "## 1. ดาวน์โหลด YOLOv7\n",
    "ดาวน์โหลดไลบรารี YOLOv7 จาก GitHub:\n",
    "- [YOLOv7 GitHub Repository](https://github.com/WongKinYiu/yolov7.git)"
   ]
  },
  {
   "cell_type": "markdown",
   "id": "eaa0d38e",
   "metadata": {},
   "source": [
    "## 2. สร้างและตั้งค่าสภาพแวดล้อม (Environment)\n",
    "1. สร้าง Environment ใหม่ด้วย Conda:\n",
    "   ```bash\n",
    "   conda create -n yolov7 python=3.9\n",
    "   ```\n",
    "2. เปิดใช้งาน Environment:\n",
    "   ```bash\n",
    "   conda activate yolov7\n",
    "   ```\n",
    "3. ติดตั้งไลบรารีจาก `requirements.txt`:\n",
    "   ```bash\n",
    "   pip install -r requirements.txt\n",
    "   ```\n",
    "4. ติดตั้ง PyTorch:\n",
    "   ```bash\n",
    "   conda install pytorch torchvision torchaudio pytorch-cuda=11.8 -c pytorch -c nvidia\n",
    "   ```"
   ]
  },
  {
   "cell_type": "markdown",
   "id": "76b9ac3f",
   "metadata": {},
   "source": [
    "## 3. การทดสอบ YOLOv7 เบื้องต้น\n",
    "1. ทดสอบการทำงานของ YOLOv7:\n",
    "   ```bash\n",
    "   python detect.py --weights yolov7.pt --conf 0.25 --img-size 640 --source inference/images\n",
    "   ```\n",
    "2. ตรวจสอบว่า GPU ใช้งานได้:\n",
    "   ```bash\n",
    "   python detect.py --device 0\n",
    "   ```"
   ]
  },
  {
   "cell_type": "markdown",
   "id": "56be70af",
   "metadata": {},
   "source": [
    "## 4. เตรียมข้อมูลสำหรับเทรนโมเดล\n",
    "### การจัดการข้อมูล\n",
    "1. ใช้ `screenshot/read_capture_video.py` เพื่อสร้างภาพจากวิดีโอ.\n",
    "2. หากต้องการทำ Object Detection:\n",
    "   - ใช้ [MakeSense](https://www.makesense.ai/) เพื่อ Annotate รูปภาพ และ Export เป็น YOLO Format."
   ]
  },
  {
   "cell_type": "markdown",
   "id": "8e166e82",
   "metadata": {},
   "source": [
    "### โครงสร้างโฟลเดอร์\n",
    "สร้างโฟลเดอร์ `train_data` และจัดเรียงข้อมูลดังนี้:\n",
    "```\n",
    "train_data/\n",
    "    images/\n",
    "        train/\n",
    "        val/\n",
    "    labels/\n",
    "        train/\n",
    "        val/\n",
    "```\n",
    "- แบ่งภาพและไฟล์ Annotation เป็น 80% สำหรับ Train และ 20% สำหรับ Validation."
   ]
  },
  {
   "cell_type": "markdown",
   "id": "32622bd1",
   "metadata": {},
   "source": [
    "## 5. สร้างไฟล์ Data Config\n",
    "1. คัดลอกไฟล์ `coco.yaml` และตั้งชื่อใหม่ เช่น `ragnarok.yaml`.\n",
    "2. อัปเดตข้อมูลในไฟล์:\n",
    "   - แก้ชื่อ Dataset และระบุที่ตั้งไฟล์."
   ]
  },
  {
   "cell_type": "markdown",
   "id": "eb37b227",
   "metadata": {},
   "source": [
    "## 6. เทรนโมเดล\n",
    "### เทรนโมเดลขนาดใหญ่\n",
    "```bash\n",
    "set KMP_DUPLICATE_LIB_OK=TRUE\n",
    "python train.py --workers 10 --device 0 --batch-size 5 --data data/ragnarok.yaml --cfg cfg/training/yolov7.yaml --weights 'yolov7.pt' --name Ragnarok --hyp data/hyp.scratch.p5.yaml --epochs 100\n",
    "```\n",
    "\n",
    "### เทรนโมเดลขนาดเล็ก (Tiny)\n",
    "```bash\n",
    "set KMP_DUPLICATE_LIB_OK=TRUE\n",
    "python train.py --workers 8 --device 0 --batch-size 8 --data data/ragnarok.yaml --cfg cfg/training/yolov7-tiny.yaml --weights 'weights/yolov7-tiny.pt' --name Ragnarok_Tiny --hyp data/hyp.scratch.tiny.yaml --epochs 50\n",
    "```"
   ]
  },
  {
   "cell_type": "markdown",
   "id": "74c821b2",
   "metadata": {},
   "source": [
    "## 7. การปรับค่า `--workers`\n",
    "- ค่าที่เหมาะสมคือ 50-75% ของจำนวน Threads บน CPU.\n",
    "- ตัวอย่าง:\n",
    "  - CPU 12 Threads: `--workers = 6-8`"
   ]
  },
  {
   "cell_type": "markdown",
   "id": "671cd3d6",
   "metadata": {},
   "source": [
    "## 8. ทดสอบโมเดลที่เทรน\n",
    "### โมเดลขนาดใหญ่\n",
    "```bash\n",
    "python detect.py --weights runs/train/Ragnarok/weights/best.pt --conf 0.25 --source ../testdata/test.mp4\n",
    "```\n",
    "\n",
    "### โมเดลขนาดเล็ก (Tiny)\n",
    "```bash\n",
    "python detect.py --weights runs/train/Ragnarok_Tiny/weights/ragnarok_tiny.pt --conf 0.25 --source ../testdata/test.mp4\n",
    "```"
   ]
  },
  {
   "cell_type": "markdown",
   "id": "36f34eeb",
   "metadata": {},
   "source": [
    "## หมายเหตุ\n",
    "- หากเกิดปัญหาเกี่ยวกับการจับหน้าจอ ให้รันโปรแกรมในโหมด Admin.\n",
    "- ปรับค่า `--conf` หรือพารามิเตอร์อื่นเพื่อเพิ่มความแม่นยำตามความต้องการ."
   ]
  }
 ],
 "metadata": {},
 "nbformat": 4,
 "nbformat_minor": 5
}
